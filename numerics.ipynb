{
 "cells": [
  {
   "cell_type": "markdown",
   "metadata": {},
   "source": [
    "# Exploring the implementation of statistical distribution functions"
   ]
  },
  {
   "cell_type": "markdown",
   "metadata": {},
   "source": [
    "Notebook for exploring and prototyping functions that will be implemented in Mojo. Working in Python to quickly prototype, plot, and explore numerical issues."
   ]
  },
  {
   "cell_type": "code",
   "execution_count": 55,
   "metadata": {},
   "outputs": [],
   "source": [
    "import math\n",
    "import scipy"
   ]
  },
  {
   "cell_type": "markdown",
   "metadata": {},
   "source": [
    "## Error function"
   ]
  },
  {
   "cell_type": "markdown",
   "metadata": {},
   "source": [
    "The **[error function](https://en.wikipedia.org/wiki/Error_function)** is defined as\n",
    "\n",
    "$$\\mathrm{erf} z = \\frac{2}{\\sqrt{\\pi}} = \\int_0^z e^{-t^2} \\mathop{dt}$$\n",
    "\n",
    "which has a [Taylor series](https://en.wikipedia.org/wiki/Error_function#Taylor_series):\n",
    "\n",
    "$$\\mathrm{erf} z = \\frac{2}{\\sqrt{\\pi}} = \\sum_{n=0}^\\infty \\frac{(-1)^n z^{2n+1}}{n!(2n + 1)}$$"
   ]
  },
  {
   "cell_type": "markdown",
   "metadata": {},
   "source": [
    "Mojo function that we are working with:\n",
    "\n",
    "```mojo\n",
    "fn erf_taylor[k: Int = 21](x: Float64) -> Float64:\n",
    "  var erf_fact: Float64 = 0.0\n",
    "  var erfz: Float64\n",
    "  for n in range(k):\n",
    "    erf_fact += ((-1) ** n * x ** (2 * n + 1)) / (factorial(n) * (2 * n + 1))\n",
    "  erfz = 2 / sqrt(pi) * erf_fact\n",
    "  return(erfz)\n",
    "  ```\n",
    "\n",
    "  and a Python implementation:"
   ]
  },
  {
   "cell_type": "code",
   "execution_count": 6,
   "metadata": {},
   "outputs": [],
   "source": [
    "def erf_taylor(x, k):\n",
    "  erf_fact = 0.0\n",
    "  for n in range(k):\n",
    "    erf_fact += ((-1) ** n * x ** (2 * n + 1)) / (math.factorial(n) * (2 * n + 1))\n",
    "  erfz = 2 / math.sqrt(math.pi) * erf_fact\n",
    "  return(erfz)"
   ]
  },
  {
   "cell_type": "markdown",
   "metadata": {},
   "source": [
    "What's the issue? Above values of about 2.5, the Taylor expansion starts exceeding its bounds of $(-1, 1)$."
   ]
  },
  {
   "cell_type": "code",
   "execution_count": 7,
   "metadata": {},
   "outputs": [
    {
     "data": {
      "text/plain": [
       "[0.8427007929497148,\n",
       " 0.9953222688644908,\n",
       " 0.9996451566471811,\n",
       " 1.0029016700876547,\n",
       " 1.1207802033230645,\n",
       " 4.595628647420463,\n",
       " 83.79606261718983,\n",
       " 23274.87610462253,\n",
       " 276612153.91663253,\n",
       " 9.333369103156057e+20,\n",
       " 2.2039065875316448e+44]"
      ]
     },
     "execution_count": 7,
     "metadata": {},
     "output_type": "execute_result"
    }
   ],
   "source": [
    "xx = [1, 2, 2.5, 2.75, 3.0, 3.25, 3.5, 4, 5, 10, 37]\n",
    "[erf_taylor(x, 21) for x in xx]"
   ]
  },
  {
   "cell_type": "markdown",
   "metadata": {},
   "source": [
    "How much of a problem is this in practice? The function will be used in the CDF of the normal distribution with the form:\n",
    "\n",
    "$$\\mathrm{erf}\\left(\\frac{x - \\mu}{\\sigma \\sqrt{2}}\\right)$$\n",
    "\n",
    "So it is standard deviations divided by a factor of $\\sqrt{2}$."
   ]
  },
  {
   "cell_type": "code",
   "execution_count": 8,
   "metadata": {},
   "outputs": [
    {
     "data": {
      "text/plain": [
       "[0.6826894921370857,\n",
       " 0.9544997361036428,\n",
       " 0.9875806693681439,\n",
       " 0.9940404746870569,\n",
       " 0.9973002514357023,\n",
       " 0.9988473925201512,\n",
       " 0.9995686384297462,\n",
       " 1.0098520939113542,\n",
       " 127.91707518264381,\n",
       " 534744322996248.5,\n",
       " 1.4640120200395263e+38]"
      ]
     },
     "execution_count": 8,
     "metadata": {},
     "output_type": "execute_result"
    }
   ],
   "source": [
    "[erf_taylor(x/math.sqrt(2), 21) for x in xx]"
   ]
  },
  {
   "cell_type": "markdown",
   "metadata": {},
   "source": [
    "So it still breaks down at not very extreme values (calculating $p \\lesssim 3 \\times 10^{-5}$)."
   ]
  },
  {
   "cell_type": "markdown",
   "metadata": {},
   "source": [
    "## Inverse error function"
   ]
  },
  {
   "cell_type": "code",
   "execution_count": 56,
   "metadata": {},
   "outputs": [],
   "source": [
    "def ck_series(K): \n",
    "  ck_expansion = {}\n",
    "\n",
    "  ck_expansion[0] = 1\n",
    "\n",
    "  for k in range(1, K+1):\n",
    "    ck = 0.0\n",
    "    for m in range(k):\n",
    "      ck += (ck_expansion[m] * ck_expansion[k - 1 - m]) / ((m + 1) * (2 * m + 1))\n",
    "    ck_expansion[k] = ck\n",
    "\n",
    "  return ck_expansion"
   ]
  },
  {
   "cell_type": "code",
   "execution_count": 57,
   "metadata": {},
   "outputs": [
    {
     "data": {
      "text/plain": [
       "89072.12295703808"
      ]
     },
     "execution_count": 57,
     "metadata": {},
     "output_type": "execute_result"
    }
   ],
   "source": [
    "ck_series(300)[50]"
   ]
  },
  {
   "cell_type": "code",
   "execution_count": 58,
   "metadata": {},
   "outputs": [],
   "source": [
    "def erfinv_series(z, K = 300):\n",
    "  ck_expansion = ck_series(K)\n",
    "\n",
    "  result = 0.0\n",
    "  for k in range(K):\n",
    "    result += ck_expansion[k] / (2.0 * k + 1.0) * (math.sqrt(math.pi) / 2.0 * z) ** (2.0 * k + 1.0)\n",
    "  return(result)"
   ]
  },
  {
   "cell_type": "code",
   "execution_count": 81,
   "metadata": {},
   "outputs": [
    {
     "data": {
      "text/plain": [
       "(1.8213863677025235, np.float64(1.8213863677184496))"
      ]
     },
     "execution_count": 81,
     "metadata": {},
     "output_type": "execute_result"
    }
   ],
   "source": [
    "erfinv_series(0.99, K = 1000), scipy.special.erfinv(0.99)"
   ]
  },
  {
   "cell_type": "code",
   "execution_count": 74,
   "metadata": {},
   "outputs": [
    {
     "data": {
      "text/plain": [
       "(0.4769362762044699, np.float64(0.4769362762044699))"
      ]
     },
     "execution_count": 74,
     "metadata": {},
     "output_type": "execute_result"
    }
   ],
   "source": [
    "erfinv_series(0.5, K = 1000), scipy.special.erfinv(0.5)"
   ]
  },
  {
   "cell_type": "code",
   "execution_count": 82,
   "metadata": {},
   "outputs": [
    {
     "data": {
      "text/plain": [
       "(0.04434038791000549, np.float64(0.044340387910005497))"
      ]
     },
     "execution_count": 82,
     "metadata": {},
     "output_type": "execute_result"
    }
   ],
   "source": [
    "erfinv_series(0.05, K = 1000), scipy.special.erfinv(0.05)"
   ]
  }
 ],
 "metadata": {
  "kernelspec": {
   "display_name": "jupyter",
   "language": "python",
   "name": "python3"
  },
  "language_info": {
   "codemirror_mode": {
    "name": "ipython",
    "version": 3
   },
   "file_extension": ".py",
   "mimetype": "text/x-python",
   "name": "python",
   "nbconvert_exporter": "python",
   "pygments_lexer": "ipython3",
   "version": "3.11.0"
  }
 },
 "nbformat": 4,
 "nbformat_minor": 2
}
